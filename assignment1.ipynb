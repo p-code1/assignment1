{
 "cells": [
  {
   "cell_type": "code",
   "execution_count": 1,
   "id": "aad7fa21-2436-4e3b-98e3-eaa2b1964273",
   "metadata": {},
   "outputs": [
    {
     "name": "stdout",
     "output_type": "stream",
     "text": [
      "Hello World\n"
     ]
    }
   ],
   "source": [
    "#Q1 Write a Python program that prints \"Hello, World!\" to the console.\n",
    "\n",
    "print(\"Hello World\")\n"
   ]
  },
  {
   "cell_type": "code",
   "execution_count": 2,
   "id": "6d1520bb-7c73-4be2-ade0-c332647f450b",
   "metadata": {},
   "outputs": [
    {
     "name": "stdout",
     "output_type": "stream",
     "text": [
      "name: pooja\n",
      "age: 22\n",
      "hobby: dancing\n"
     ]
    }
   ],
   "source": [
    "#Q2. Create variables to store your name, age, and favorite hobby. Print these variables.\n",
    "\n",
    "name = \"pooja\"\n",
    "age = 22\n",
    "hobby = \"dancing\"\n",
    "\n",
    "print(\"name:\", name)\n",
    "print(\"age:\", age)\n",
    "print(\"hobby:\", hobby)\n",
    "\n"
   ]
  },
  {
   "cell_type": "code",
   "execution_count": null,
   "id": "2b29eb08-2e10-4b75-95af-495f126ff33f",
   "metadata": {},
   "outputs": [],
   "source": [
    "#Q3 Add comments to your code explaining what each line does.\n",
    "\n"
   ]
  },
  {
   "cell_type": "code",
   "execution_count": 4,
   "id": "94955265-20d0-4e5a-ab9e-ee2115dcb417",
   "metadata": {},
   "outputs": [
    {
     "name": "stdin",
     "output_type": "stream",
     "text": [
      "Enter a number -9\n"
     ]
    },
    {
     "name": "stdout",
     "output_type": "stream",
     "text": [
      "The number is nigative\n"
     ]
    }
   ],
   "source": [
    "#Q4. Write a Python program that takes an integer input from the user and prints whether the number is\n",
    "#positive, negative, or zero.\n",
    "\n",
    "\n",
    "num = int(input(\"Enter a number\")) #taking integer input from user\n",
    "\n",
    "# cheching number is positive, negative or zero.\n",
    "if num > 0:\n",
    "    print(\"The number is positive\")\n",
    "\n",
    "elif num < 0:\n",
    "    print(\"The number is nigative\")\n",
    "\n",
    "else:\n",
    "    print(\"The number is zero\")\n",
    "\n"
   ]
  },
  {
   "cell_type": "code",
   "execution_count": 5,
   "id": "220fd9c7-2ead-47c1-b8c1-7968f163f12d",
   "metadata": {},
   "outputs": [
    {
     "name": "stdin",
     "output_type": "stream",
     "text": [
      "Enter a year 2024\n"
     ]
    },
    {
     "name": "stdout",
     "output_type": "stream",
     "text": [
      "Enter year ia a leap year\n"
     ]
    }
   ],
   "source": [
    "#Q5. Create a program that checks if a given year is a leap year.\n",
    "\n",
    "yr = int(input(\"Enter a year\")) \n",
    "\n",
    "if yr % 4 == 0:\n",
    "    print(\"Enter year ia a leap year\")\n",
    "\n",
    "else:\n",
    "    print(\"Enter year is not leap year\")\n"
   ]
  },
  {
   "cell_type": "code",
   "execution_count": 6,
   "id": "c32329e2-b7fd-4990-aaba-2cde12e78f41",
   "metadata": {},
   "outputs": [
    {
     "name": "stdout",
     "output_type": "stream",
     "text": [
      "1\n",
      "2\n",
      "3\n",
      "4\n",
      "5\n",
      "6\n",
      "7\n",
      "8\n",
      "9\n",
      "10\n"
     ]
    }
   ],
   "source": [
    "#Q6 . Write a Python program to print the first 10 natural numbers using a for loop.\n",
    "\n",
    "for i in range(1, 11):\n",
    "    print(i)\n"
   ]
  },
  {
   "cell_type": "code",
   "execution_count": 1,
   "id": "5ac2d6a8-ccc9-415e-a6c4-708b61ef4ae3",
   "metadata": {},
   "outputs": [
    {
     "name": "stdin",
     "output_type": "stream",
     "text": [
      "Enter a number 6\n"
     ]
    },
    {
     "name": "stdout",
     "output_type": "stream",
     "text": [
      "6*1= 6\n",
      "6*2= 12\n",
      "6*3= 18\n",
      "6*4= 24\n",
      "6*5= 30\n",
      "6*6= 36\n",
      "6*7= 42\n",
      "6*8= 48\n",
      "6*9= 54\n",
      "6*10= 60\n"
     ]
    }
   ],
   "source": [
    "#Q7 Create a program that prints the multiplication table of a given number using a while loop.\n",
    "\n",
    "num = int(input(\"Enter a number\"))\n",
    "\n",
    "m = 1\n",
    "\n",
    "while m <= 10:\n",
    "    result = num * m\n",
    "    print(f\"{num}*{m}= {result}\")\n",
    "    m += 1"
   ]
  },
  {
   "cell_type": "code",
   "execution_count": 7,
   "id": "bf592aa5-6bfa-41ed-a09d-eebc94582b46",
   "metadata": {},
   "outputs": [
    {
     "name": "stdout",
     "output_type": "stream",
     "text": [
      "1\n",
      "2\n",
      "4\n",
      "5\n",
      "7\n",
      "8\n",
      "10\n"
     ]
    }
   ],
   "source": [
    "#Q8 . Write a Python program that iterates through numbers 1 to 10 and prints each number. Use the\n",
    "#continue statement to skip numbers that are divisible by 3.\n",
    "\n",
    "for i in range(1, 11):\n",
    "    # If the number is divisible by 3, skip \n",
    "    if i % 3 == 0:\n",
    "        continue  #If the number is divisible by 3, continue to print number\n",
    "   \n",
    "    print(i)\n"
   ]
  },
  {
   "cell_type": "code",
   "execution_count": 10,
   "id": "26dc26ab-87b9-4cbc-a0f8-f7ff1aab1a9e",
   "metadata": {},
   "outputs": [
    {
     "name": "stdout",
     "output_type": "stream",
     "text": [
      "1\n",
      "2\n",
      "3\n",
      "4\n",
      "5\n"
     ]
    }
   ],
   "source": [
    "#Q9 Create a program that stops printing numbers when it encounters a number greater than 5 using the\n",
    "#break statement.\n",
    "\n",
    "for i in range(1, 11):\n",
    "    # Check if the number is greater than 5\n",
    "    if i > 5:\n",
    "        \n",
    "        break  # loop will break after condition false\n",
    "    \n",
    "    print(i)\n"
   ]
  },
  {
   "cell_type": "code",
   "execution_count": 15,
   "id": "c4c858e4-27d8-4d45-835e-f67d830cc899",
   "metadata": {},
   "outputs": [
    {
     "name": "stdout",
     "output_type": "stream",
     "text": [
      "Hello pooja!\n",
      "Hello Gayatri!\n"
     ]
    }
   ],
   "source": [
    "#Q10 Define a function called greet that takes a name as an argument and prints \"Hello, [name]!\".\n",
    "\n",
    "def greet(name):\n",
    "    print(f\"Hello {name}!\")\n",
    "\n",
    "greet(\"pooja\")\n",
    "greet(\"Gayatri\")\n"
   ]
  },
  {
   "cell_type": "code",
   "execution_count": 17,
   "id": "64140876-0add-4042-9b37-92705024554a",
   "metadata": {},
   "outputs": [
    {
     "name": "stdout",
     "output_type": "stream",
     "text": [
      "60\n"
     ]
    }
   ],
   "source": [
    "#Q11. Create a function that takes two numbers as arguments and returns their sum.\n",
    "\n",
    "def sum(a, b): # take two arguments\n",
    "    result = a + b # store their summation as a result \n",
    "    print(result) # print the result\n",
    "\n",
    "sum(20, 40)# calling a function\n"
   ]
  },
  {
   "cell_type": "code",
   "execution_count": null,
   "id": "98b20d75-804b-49d9-8849-510b4e401f6a",
   "metadata": {},
   "outputs": [],
   "source": []
  }
 ],
 "metadata": {
  "kernelspec": {
   "display_name": "Python 3 (ipykernel)",
   "language": "python",
   "name": "python3"
  },
  "language_info": {
   "codemirror_mode": {
    "name": "ipython",
    "version": 3
   },
   "file_extension": ".py",
   "mimetype": "text/x-python",
   "name": "python",
   "nbconvert_exporter": "python",
   "pygments_lexer": "ipython3",
   "version": "3.11.2"
  }
 },
 "nbformat": 4,
 "nbformat_minor": 5
}
